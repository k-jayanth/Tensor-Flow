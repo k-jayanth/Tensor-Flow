{
 "cells": [
  {
   "cell_type": "code",
   "execution_count": null,
   "metadata": {},
   "outputs": [],
   "source": [
    "#simple classifiaction\n",
    "n_data=np.ones((100,2))\n",
    "x0=np.random.normal(2*n_data,1)\n",
    "y0=np.zeros(100)\n",
    "x1=np.random.normal(-2*n_data,1)\n",
    "y1=np.ones(100)\n",
    "x=np.vstack((x0,x1))\n",
    "y=np.hstack((y0,y1))\n",
    "\n",
    "plt.scatter(x[:,0],x[:,1],c=y,s=100,lw=0,cmap='RdYlGn')\n",
    "plt.show()\n",
    "\n",
    "tf_x=tf.placeholder(tf.float32,x.shape)\n",
    "tf_y=tf.placeholder(tf.int32,y.shape)\n",
    "\n",
    "l1=tf.layers.dense(tf_x,10,tf.nn.relu)\n",
    "output=tf.layers.dense(l1,2)\n",
    "\n",
    "loss=tf.losses.sparse_softmax_cross_entropy(labels=tf_y,logits=output)\n",
    "accuracy=tf.metrics.accuracy(\n",
    "    labels=tf.squeeze(tf_y),predictions=tf.argmax(output,axis=1),)[1]\n",
    "optimizer=tf.train.GradientDescentOptimizer(learning_rate=0.5)\n",
    "train_op=optimizer.minimize(loss)\n",
    "\n",
    "sess=tf.Session()\n",
    "init_op=tf.group(tf.global_variables_initializer(),tf.local_variables_initializer())\n",
    "sess.run(init_op)\n",
    "\n",
    "plt.ion()\n",
    "\n",
    "for step in range(100):\n",
    "    _,acc,pred=sess.run([train_op,loss,output],{tf_x:x,tf_y:y})\n",
    "    if step % 2 == 0:\n",
    "        plt.cla()\n",
    "        plt.scatter(x[:,0],x[:,1],c=pred.argmax(1),s=100,lw=0,cmap='RdYlGn')\n",
    "        plt.text(1.5,-4,'Accuracy=%2f'%acc,fontdict={'size':20,'color':'red'})\n",
    "        plt.pause(0.1)\n",
    "plt.ioff()\n",
    "plt.show()"
   ]
  }
 ],
 "metadata": {
  "kernelspec": {
   "display_name": "Python 3",
   "language": "python",
   "name": "python3"
  },
  "language_info": {
   "codemirror_mode": {
    "name": "ipython",
    "version": 3
   },
   "file_extension": ".py",
   "mimetype": "text/x-python",
   "name": "python",
   "nbconvert_exporter": "python",
   "pygments_lexer": "ipython3",
   "version": "3.6.0"
  }
 },
 "nbformat": 4,
 "nbformat_minor": 2
}

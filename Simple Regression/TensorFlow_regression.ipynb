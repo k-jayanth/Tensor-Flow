{
 "cells": [
  {
   "cell_type": "code",
   "execution_count": null,
   "metadata": {},
   "outputs": [],
   "source": [
    "#simple regression\n",
    "x=np.linspace(-1,1,100)[:,np.newaxis]\n",
    "noise=np.random.normal(0,0.1,size=x.shape)\n",
    "y=np.power(x,2)+noise\n",
    "\n",
    "plt.scatter(x,y)\n",
    "plt.show()\n",
    "\n",
    "tf_x=tf.placeholder(tf.float32,x.shape)\n",
    "tf_y=tf.placeholder(tf.float32,y.shape)\n",
    "\n",
    "l1=tf.layers.dense(tf_x,10,tf.nn.relu)\n",
    "output=tf.layers.dense(l1,1)\n",
    "\n",
    "loss=tf.losses.mean_squared_error(tf_y,output)\n",
    "optimizer=tf.train.GradientDescentOptimizer(learning_rate=0.5)\n",
    "train_op=optimizer.minimize(loss)\n",
    "\n",
    "sess=tf.Session()\n",
    "sess.run(tf.global_variables_initializer())\n",
    "\n",
    "plt.ion()\n",
    "\n",
    "for step in range(100):\n",
    "    _,l,pred=sess.run([train_op,loss,output],{tf_x:x,tf_y:y})\n",
    "    if step % 5 == 0:\n",
    "        plt.cla()\n",
    "        plt.scatter(x,y)\n",
    "        plt.plot(x,pred,'r-',lw=5)\n",
    "        plt.text(0.5,0,'Loss=%4f'%1,fontdict={'size':20,'color':'red'})\n",
    "        plt.pause(0.1)\n",
    "plt.ioff()\n",
    "plt.show()"
   ]
  }
 ],
 "metadata": {
  "kernelspec": {
   "display_name": "Python 3",
   "language": "python",
   "name": "python3"
  },
  "language_info": {
   "codemirror_mode": {
    "name": "ipython",
    "version": 3
   },
   "file_extension": ".py",
   "mimetype": "text/x-python",
   "name": "python",
   "nbconvert_exporter": "python",
   "pygments_lexer": "ipython3",
   "version": "3.6.0"
  }
 },
 "nbformat": 4,
 "nbformat_minor": 2
}
